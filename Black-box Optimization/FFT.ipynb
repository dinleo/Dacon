{
 "cells": [
  {
   "cell_type": "code",
   "execution_count": 1,
   "id": "initial_id",
   "metadata": {
    "collapsed": true,
    "ExecuteTime": {
     "end_time": "2024-09-08T14:44:37.069292Z",
     "start_time": "2024-09-08T14:44:30.255951Z"
    }
   },
   "outputs": [],
   "source": [
    "import pandas as pd\n",
    "import numpy as np\n",
    "from sklearn.linear_model import LinearRegression\n",
    "from sklearn.metrics import mean_squared_error\n",
    "from numpy.fft import fft, ifft"
   ]
  },
  {
   "cell_type": "code",
   "outputs": [],
   "source": [
    "# FFT \n",
    "def apply_fft(data):\n",
    "    fft_values = fft(data)\n",
    "    return np.abs(fft_values)"
   ],
   "metadata": {
    "collapsed": false,
    "ExecuteTime": {
     "end_time": "2024-09-08T14:44:37.085291Z",
     "start_time": "2024-09-08T14:44:37.074292Z"
    }
   },
   "id": "b0284454fba421fa",
   "execution_count": 2
  },
  {
   "cell_type": "code",
   "outputs": [],
   "source": [
    "# 훈련\n",
    "train_data = pd.read_csv('data/train.csv')\n",
    "X_train = train_data.drop(columns=['ID', 'y'])\n",
    "y_train = train_data['y']\n",
    "\n",
    "# FFT 적용 (훈련 데이터)\n",
    "X_train_fft = X_train.apply(apply_fft, axis=1)"
   ],
   "metadata": {
    "collapsed": false,
    "ExecuteTime": {
     "end_time": "2024-09-08T14:45:17.951002Z",
     "start_time": "2024-09-08T14:45:17.091178Z"
    }
   },
   "id": "ca90df6b4f16c5ae",
   "execution_count": 5
  },
  {
   "cell_type": "code",
   "outputs": [
    {
     "data": {
      "text/plain": "LinearRegression()"
     },
     "execution_count": 6,
     "metadata": {},
     "output_type": "execute_result"
    }
   ],
   "source": [
    "# 선형 회귀 모델 훈련\n",
    "model = LinearRegression()\n",
    "# model.fit(list(X_train_fft), y_train)\n",
    "model.fit(X_train, y_train)"
   ],
   "metadata": {
    "collapsed": false,
    "ExecuteTime": {
     "end_time": "2024-09-08T14:47:28.371368Z",
     "start_time": "2024-09-08T14:47:28.328369Z"
    }
   },
   "id": "6cbb154d8bb4b2f8",
   "execution_count": 6
  },
  {
   "cell_type": "code",
   "outputs": [
    {
     "name": "stdout",
     "output_type": "stream",
     "text": [
      "Test MSE: 2.7928921501484476\n"
     ]
    }
   ],
   "source": [
    "# 검증\n",
    "# y_pred_train = model.predict(list(X_train_fft))\n",
    "y_pred_train = model.predict(X_train)\n",
    "mse = mean_squared_error(y_train, y_pred_train)\n",
    "print(f\"Test MSE: {mse}\")"
   ],
   "metadata": {
    "collapsed": false,
    "ExecuteTime": {
     "end_time": "2024-09-08T14:47:46.539428Z",
     "start_time": "2024-09-08T14:47:46.524437Z"
    }
   },
   "id": "abbc7d9dbe0e6ec9",
   "execution_count": 7
  },
  {
   "cell_type": "code",
   "outputs": [
    {
     "name": "stdout",
     "output_type": "stream",
     "text": [
      "83.69009942332842\n"
     ]
    }
   ],
   "source": [
    "# 테스트\n",
    "test_data = pd.read_csv('data/test.csv')\n",
    "# FFT 적용 (테스트 데이터)\n",
    "X_test = test_data.drop(columns=['ID'])  # 테스트 데이터에 target이 포함된 경우\n",
    "X_test_fft = X_test.apply(apply_fft, axis=1)\n",
    "\n",
    "# 예측 수행\n",
    "# y_pred = model.predict(list(X_test_fft))\n",
    "y_pred = model.predict(X_test)\n",
    "print(y_pred[0])"
   ],
   "metadata": {
    "collapsed": false,
    "ExecuteTime": {
     "end_time": "2024-09-08T14:48:03.400848Z",
     "start_time": "2024-09-08T14:48:03.309249Z"
    }
   },
   "id": "e8ed4e7dbf73050e",
   "execution_count": 8
  },
  {
   "cell_type": "code",
   "outputs": [
    {
     "data": {
      "text/plain": "'sub2.csv'"
     },
     "execution_count": 9,
     "metadata": {},
     "output_type": "execute_result"
    }
   ],
   "source": [
    "# sample_submission.csv 파일 불러오기\n",
    "submission_file_path = 'data/sample_submission.csv'\n",
    "submission_data = pd.read_csv(submission_file_path)\n",
    "\n",
    "# 예측 결과를 sample_submission 형식에 맞춰 'y' 컬럼에 삽입\n",
    "submission_data['y'] = y_pred\n",
    "\n",
    "# 결과를 CSV로 저장 (경로는 '/mnt/data/submission_result.csv')\n",
    "output_path = 'sub2.csv'\n",
    "submission_data.to_csv(output_path, index=False)\n",
    "\n",
    "output_path  # 출력 경로 확인"
   ],
   "metadata": {
    "collapsed": false,
    "ExecuteTime": {
     "end_time": "2024-09-08T14:48:17.485914Z",
     "start_time": "2024-09-08T14:48:17.447908Z"
    }
   },
   "id": "fa1987f75b7e6249",
   "execution_count": 9
  },
  {
   "cell_type": "code",
   "outputs": [],
   "source": [],
   "metadata": {
    "collapsed": false
   },
   "id": "2e2df4cc4aaa5345"
  }
 ],
 "metadata": {
  "kernelspec": {
   "display_name": "Python 3",
   "language": "python",
   "name": "python3"
  },
  "language_info": {
   "codemirror_mode": {
    "name": "ipython",
    "version": 2
   },
   "file_extension": ".py",
   "mimetype": "text/x-python",
   "name": "python",
   "nbconvert_exporter": "python",
   "pygments_lexer": "ipython2",
   "version": "2.7.6"
  }
 },
 "nbformat": 4,
 "nbformat_minor": 5
}
