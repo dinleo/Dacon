{
 "cells": [
  {
   "cell_type": "code",
   "execution_count": null,
   "outputs": [],
   "source": [
    "!pip install autots python-dotenv huggingface_hub\n"
   ],
   "metadata": {
    "collapsed": false
   },
   "id": "fe9b1c7f48a4807"
  },
  {
   "cell_type": "code",
   "execution_count": 1,
   "outputs": [
    {
     "data": {
      "text/plain": "(            ID       x_0       x_1       x_2       x_3       x_4       x_5  \\\n 0  TRAIN_00000  1.006187 -1.962566  1.247535  0.926500 -0.265766 -1.789301   \n 1  TRAIN_00001  1.024647 -2.472625  1.144386  0.846499 -0.287336 -1.756679   \n 2  TRAIN_00002  1.062444 -2.451003  1.186546  0.873599 -0.257828 -1.802735   \n 3  TRAIN_00003  1.089189 -2.458470  1.184531  0.810867 -0.276517 -1.787739   \n 4  TRAIN_00004  1.023323 -2.133468  1.242266  0.939837 -0.264515 -1.792044   \n \n         x_6       x_7       x_8       x_9      x_10          y       Date  \n 0  0.470004 -0.139467  0.623996  0.320359  0.078612  83.424500 2020-01-01  \n 1  0.503860 -0.219545  0.697607  0.238306  0.081778  79.374109 2020-01-02  \n 2  0.498045 -0.194247  0.684134  0.259392  0.095003  82.181616 2020-01-03  \n 3  0.503359 -0.201923  0.686394  0.245736  0.091737  83.006586 2020-01-04  \n 4  0.470478 -0.142896  0.623778  0.314610  0.078987  83.051434 2020-01-05  ,\n           ID       x_0       x_1       x_2       x_3       x_4       x_5  \\\n 0  TEST_0000  1.069219 -2.106844  1.228438  0.897236 -0.258323 -1.794707   \n 1  TEST_0001  1.071553 -2.509419  1.153271  0.824917 -0.270175 -1.773425   \n 2  TEST_0002  0.977364 -1.362481  1.164106  0.948528 -0.417688 -1.633350   \n 3  TEST_0003  0.977220 -1.211227  1.138849  0.914028 -0.459511 -1.602302   \n 4  TEST_0004  1.069111 -2.409491  1.174731  0.856938 -0.273046 -1.782787   \n \n         x_6       x_7       x_8       x_9      x_10       Date  \n 0  0.467295 -0.154325  0.630702  0.312034  0.084618 2020-04-10  \n 1  0.501530 -0.203479  0.693976  0.246928  0.086857 2020-04-11  \n 2  0.517789 -0.081149  0.581488  0.386941  0.002027 2020-04-12  \n 3  0.538293 -0.069170  0.580191  0.397438 -0.017518 2020-04-13  \n 4  0.504689 -0.197011  0.690465  0.246498  0.089634 2020-04-14  )"
     },
     "execution_count": 1,
     "metadata": {},
     "output_type": "execute_result"
    }
   ],
   "source": [
    "import pandas as pd\n",
    "\n",
    "# 파일 경로\n",
    "train_file_path = 'data/train.csv'\n",
    "test_file_path = 'data/test.csv'\n",
    "\n",
    "# 데이터 불러오기\n",
    "train_data = pd.read_csv(train_file_path)\n",
    "test_data = pd.read_csv(test_file_path)\n",
    "\n",
    "# train_data, test_data에 날짜 열 추가\n",
    "train_data['Date'] = pd.date_range(start='2020-01-01', periods=len(train_data), freq='D')\n",
    "test_data['Date'] = pd.date_range(start='2020-04-10', periods=len(test_data), freq='D')\n",
    "\n",
    "# 결과 확인\n",
    "train_data.head(), test_data.head()"
   ],
   "metadata": {
    "collapsed": false,
    "ExecuteTime": {
     "end_time": "2024-09-06T12:03:33.156111Z",
     "start_time": "2024-09-06T12:03:32.310073Z"
    }
   },
   "id": "6d3fbbb7d507d546"
  },
  {
   "cell_type": "code",
   "outputs": [
    {
     "name": "stdout",
     "output_type": "stream",
     "text": [
      "Using 6 cpus for n_jobs.\n"
     ]
    }
   ],
   "source": [
    "from autots import AutoTS\n",
    "\n",
    "# AutoTS 모델 초기화\n",
    "model = AutoTS(\n",
    "    forecast_length=10,         # 예측하고자 하는 기간\n",
    "    frequency='D',              # 데이터가 일별 주기이므로 'D'로 설정\n",
    "    ensemble='simple',          # 앙상블 전략\n",
    "    max_generations=5,          # 진화 과정에서 반복할 세대 수\n",
    "    n_jobs='auto'               # 병렬 처리\n",
    ")"
   ],
   "metadata": {
    "collapsed": false,
    "ExecuteTime": {
     "end_time": "2024-09-06T12:09:40.840471Z",
     "start_time": "2024-09-06T12:09:38.004797Z"
    }
   },
   "id": "eaf9228208c6a04f",
   "execution_count": 2
  },
  {
   "cell_type": "code",
   "execution_count": null,
   "outputs": [],
   "source": [
    "# 모델 학습 (train_data에서 'y' 값을 예측하도록 학습)\n",
    "model = model.fit(train_data, date_col='Date', value_col='y')"
   ],
   "metadata": {
    "collapsed": false
   },
   "id": "f366ba1c9c028683"
  },
  {
   "cell_type": "code",
   "outputs": [],
   "source": [
    "# test 데이터로 예측 수행\n",
    "test_predictions = model.predict(test_data)\n",
    "model.export_template()\n",
    "# 예측 결과에서 포인트 예측값 가져오기\n",
    "test_forecast = test_predictions.forecast\n",
    "\n",
    "# 예측값 출력\n",
    "print(test_forecast)"
   ],
   "metadata": {
    "collapsed": false
   },
   "id": "c08df6e888ba3472"
  },
  {
   "cell_type": "code",
   "outputs": [],
   "source": [
    "# sample_submission.csv 파일 불러오기\n",
    "submission_file_path = 'data/sample_submission.csv'\n",
    "submission_data = pd.read_csv(submission_file_path)\n",
    "\n",
    "# 예측 결과를 sample_submission 형식에 맞춰 'y' 컬럼에 삽입\n",
    "submission_data['y'] = test_forecast.values\n",
    "\n",
    "# 결과를 CSV로 저장 (경로는 '/mnt/data/submission_result.csv')\n",
    "output_path = 'sub.csv'\n",
    "submission_data.to_csv(output_path, index=False)\n",
    "\n",
    "output_path  # 출력 경로 확인"
   ],
   "metadata": {
    "collapsed": false
   },
   "id": "778f0f2d29843128",
   "execution_count": null
  },
  {
   "cell_type": "code",
   "outputs": [],
   "source": [
    "model.export_best_model('a.csv')"
   ],
   "metadata": {
    "collapsed": false,
    "ExecuteTime": {
     "end_time": "2024-09-06T12:09:51.475270Z",
     "start_time": "2024-09-06T12:09:51.462715Z"
    }
   },
   "id": "b3da0257f16374",
   "execution_count": 4
  },
  {
   "cell_type": "code",
   "execution_count": null,
   "outputs": [],
   "source": [],
   "metadata": {
    "collapsed": false
   },
   "id": "4ae5864ef137ed2"
  }
 ],
 "metadata": {
  "kernelspec": {
   "name": "python3",
   "language": "python",
   "display_name": "Python 3 (ipykernel)"
  },
  "language_info": {
   "codemirror_mode": {
    "name": "ipython",
    "version": 2
   },
   "file_extension": ".py",
   "mimetype": "text/x-python",
   "name": "python",
   "nbconvert_exporter": "python",
   "pygments_lexer": "ipython2",
   "version": "2.7.6"
  }
 },
 "nbformat": 4,
 "nbformat_minor": 5
}
