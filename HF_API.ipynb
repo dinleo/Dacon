{
 "cells": [
  {
   "cell_type": "code",
   "execution_count": null,
   "id": "initial_id",
   "metadata": {
    "collapsed": true
   },
   "outputs": [],
   "source": [
    "import os\n",
    "from dotenv import load_dotenv\n",
    "from huggingface_hub import HfApi\n",
    "\n",
    "load_dotenv()\n",
    "HUG = os.getenv('HUG')\n",
    "api = HfApi()\n",
    "\n",
    "\n",
    "\n",
    "api.upload_folder(\n",
    "    folder_path='',\n",
    "    path_in_repo=\"ck/1\",\n",
    "    repo_id=\"dinleo11/AutoTS\",\n",
    "    repo_type=\"model\",\n",
    "    token=HUG\n",
    ")"
   ]
  },
  {
   "cell_type": "code",
   "outputs": [],
   "source": [
    "model.save(\"auto_ts_model\") # TF\n",
    "model.save_pretrained(save_path) # TC"
   ],
   "metadata": {
    "collapsed": false
   },
   "id": "765884cb8a4458b3"
  }
 ],
 "metadata": {
  "kernelspec": {
   "display_name": "Python 3",
   "language": "python",
   "name": "python3"
  },
  "language_info": {
   "codemirror_mode": {
    "name": "ipython",
    "version": 2
   },
   "file_extension": ".py",
   "mimetype": "text/x-python",
   "name": "python",
   "nbconvert_exporter": "python",
   "pygments_lexer": "ipython2",
   "version": "2.7.6"
  }
 },
 "nbformat": 4,
 "nbformat_minor": 5
}
